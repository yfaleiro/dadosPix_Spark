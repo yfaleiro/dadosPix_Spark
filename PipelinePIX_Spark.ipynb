{
  "nbformat": 4,
  "nbformat_minor": 0,
  "metadata": {
    "colab": {
      "provenance": [],
      "collapsed_sections": [
        "QByIWQY7ffqS",
        "4OSyyzkqho4j"
      ],
      "authorship_tag": "ABX9TyPTSk7pG5tKOaugFQ3C+bGk",
      "include_colab_link": true
    },
    "kernelspec": {
      "name": "python3",
      "display_name": "Python 3"
    },
    "language_info": {
      "name": "python"
    }
  },
  "cells": [
    {
      "cell_type": "markdown",
      "metadata": {
        "id": "view-in-github",
        "colab_type": "text"
      },
      "source": [
        "<a href=\"https://colab.research.google.com/github/yfaleiro/dadosPix_Spark/blob/main/PipelinePIX_Spark.ipynb\" target=\"_parent\"><img src=\"https://colab.research.google.com/assets/colab-badge.svg\" alt=\"Open In Colab\"/></a>"
      ]
    },
    {
      "cell_type": "markdown",
      "source": [
        "##Setup"
      ],
      "metadata": {
        "id": "QByIWQY7ffqS"
      }
    },
    {
      "cell_type": "code",
      "source": [
        "!pip install pyspark"
      ],
      "metadata": {
        "colab": {
          "base_uri": "https://localhost:8080/"
        },
        "id": "c8aMlrckfnQy",
        "outputId": "3b0d5a65-077a-4a0f-d2a1-be6238d68c6f"
      },
      "execution_count": 1,
      "outputs": [
        {
          "output_type": "stream",
          "name": "stdout",
          "text": [
            "Collecting pyspark\n",
            "  Downloading pyspark-3.5.1.tar.gz (317.0 MB)\n",
            "\u001b[2K     \u001b[90m━━━━━━━━━━━━━━━━━━━━━━━━━━━━━━━━━━━━━━━━\u001b[0m \u001b[32m317.0/317.0 MB\u001b[0m \u001b[31m4.7 MB/s\u001b[0m eta \u001b[36m0:00:00\u001b[0m\n",
            "\u001b[?25h  Preparing metadata (setup.py) ... \u001b[?25l\u001b[?25hdone\n",
            "Requirement already satisfied: py4j==0.10.9.7 in /usr/local/lib/python3.10/dist-packages (from pyspark) (0.10.9.7)\n",
            "Building wheels for collected packages: pyspark\n",
            "  Building wheel for pyspark (setup.py) ... \u001b[?25l\u001b[?25hdone\n",
            "  Created wheel for pyspark: filename=pyspark-3.5.1-py2.py3-none-any.whl size=317488491 sha256=f0cfdbb66ad791c88a00e2001f0344bdfcc60dfca05efe6b8c233fa87c95b4f1\n",
            "  Stored in directory: /root/.cache/pip/wheels/80/1d/60/2c256ed38dddce2fdd93be545214a63e02fbd8d74fb0b7f3a6\n",
            "Successfully built pyspark\n",
            "Installing collected packages: pyspark\n",
            "Successfully installed pyspark-3.5.1\n"
          ]
        }
      ]
    },
    {
      "cell_type": "code",
      "execution_count": 4,
      "metadata": {
        "id": "Q2sGTBn6fC-s"
      },
      "outputs": [],
      "source": [
        "# Iniciando sessão spark\n",
        "from pyspark.sql import SparkSession\n",
        "\n",
        "spark = (SparkSession.builder.config('spark.ui.port', '4050').appName('PipelinePix').getOrCreate())\n"
      ]
    },
    {
      "cell_type": "code",
      "source": [
        "df = spark.read.json(path='./dados_transacoes.json')"
      ],
      "metadata": {
        "id": "i_3uDiTRgOKP"
      },
      "execution_count": 42,
      "outputs": []
    },
    {
      "cell_type": "markdown",
      "source": [
        "##Preparação dos dados"
      ],
      "metadata": {
        "id": "4OSyyzkqho4j"
      }
    },
    {
      "cell_type": "code",
      "source": [
        "df.show()"
      ],
      "metadata": {
        "colab": {
          "base_uri": "https://localhost:8080/"
        },
        "id": "OeTHiuNihZI0",
        "outputId": "0efa1e38-739b-4a43-dc09-9793e71a2aca"
      },
      "execution_count": 43,
      "outputs": [
        {
          "output_type": "stream",
          "name": "stdout",
          "text": [
            "+-------------+---------+--------------------+------+------------+--------------------+-------------------+------------------+\n",
            "|    categoria|chave_pix|        destinatario|fraude|id_transacao|           remetente|   transaction_date|             valor|\n",
            "+-------------+---------+--------------------+------+------------+--------------------+-------------------+------------------+\n",
            "|       outros|aleatoria|{Caixa, Calebe Me...|     0|        1000|{BTG, Jonathan Go...|2021-07-16 05:00:55|            588.08|\n",
            "|transferencia|  celular|{Caixa, Davi Luca...|     1|        1001|{BTG, Jonathan Go...|2022-04-20 12:34:01|           80682.5|\n",
            "|        lazer|      cpf|{Nubank, Sabrina ...|     0|        1002|{BTG, Jonathan Go...|2022-07-10 16:51:34|             549.9|\n",
            "|   transporte|aleatoria|{Nubank, Francisc...|     0|        1003|{BTG, Jonathan Go...|2022-10-20 10:57:36|             90.83|\n",
            "|transferencia|    email|{BTG, Isabelly Fe...|     0|        1004|{BTG, Jonathan Go...|2021-04-06 20:26:51|13272.619999999999|\n",
            "|        saude|aleatoria|{Itau, Srta. Mari...|     0|        1005|{BTG, Jonathan Go...|2022-07-24 15:22:27|           9347.58|\n",
            "|    presentes|      cpf|{C6, Catarina Dua...|     0|        1006|{BTG, Jonathan Go...|2022-10-05 19:20:24|           7836.76|\n",
            "|    vestuario|      cpf|{XP, Vitor Correi...|     0|        1007|{BTG, Jonathan Go...|2021-04-24 17:36:34|           3883.62|\n",
            "|        saude|aleatoria|{C6, Theo Novaes,...|     0|        1008|{BTG, Jonathan Go...|2021-11-16 21:46:47|               4.0|\n",
            "|transferencia|      cpf|{XP, Isabel Calde...|     0|        1009|{BTG, Jonathan Go...|2021-07-26 02:08:49|              24.3|\n",
            "|transferencia|aleatoria|{Nubank, Sr. Henr...|     1|        1010|{BTG, Jonathan Go...|2022-03-14 15:34:45|           87555.3|\n",
            "|transferencia|      cpf|{Nubank, Felipe C...|     1|        1011|{BTG, Jonathan Go...|2021-10-31 04:31:51|          21345.91|\n",
            "|transferencia|  celular|{Bradesco, Dr. Da...|     1|        1012|{BTG, Jonathan Go...|2021-04-30 19:19:56|          73605.85|\n",
            "|  alimentacao|      cpf|{C6, Stephany Car...|     0|        1013|{BTG, Jonathan Go...|2023-01-13 13:39:57|             93.53|\n",
            "|    vestuario|aleatoria|{Itau, Sra. Julia...|     0|        1014|{BTG, Jonathan Go...|2022-05-27 23:06:08|            564.11|\n",
            "|        saude|    email|{Nubank, Carolina...|     0|        1015|{BTG, Jonathan Go...|2021-10-06 21:19:58|              3.59|\n",
            "|  alimentacao|    email|{Nubank, Isabelly...|     0|        1016|{BTG, Jonathan Go...|2022-03-06 17:59:43|          19164.89|\n",
            "|    vestuario|aleatoria|{C6, Joao Miguel ...|     0|        1017|{BTG, Jonathan Go...|2022-04-01 18:17:40|             68.45|\n",
            "|    vestuario|  celular|{C6, Matheus Mour...|     0|        1018|{BTG, Jonathan Go...|2022-05-23 00:28:13|            941.25|\n",
            "|transferencia|    email|{Itau, Gabrielly ...|     1|        1019|{BTG, Jonathan Go...|2021-08-04 23:22:37|27009.910000000003|\n",
            "+-------------+---------+--------------------+------+------------+--------------------+-------------------+------------------+\n",
            "only showing top 20 rows\n",
            "\n"
          ]
        }
      ]
    },
    {
      "cell_type": "code",
      "source": [
        "df.printSchema()"
      ],
      "metadata": {
        "colab": {
          "base_uri": "https://localhost:8080/"
        },
        "id": "lPrBYt3DhhS7",
        "outputId": "5788399d-9141-462c-9497-64f996cf3e82"
      },
      "execution_count": 44,
      "outputs": [
        {
          "output_type": "stream",
          "name": "stdout",
          "text": [
            "root\n",
            " |-- categoria: string (nullable = true)\n",
            " |-- chave_pix: string (nullable = true)\n",
            " |-- destinatario: struct (nullable = true)\n",
            " |    |-- banco: string (nullable = true)\n",
            " |    |-- nome: string (nullable = true)\n",
            " |    |-- tipo: string (nullable = true)\n",
            " |-- fraude: long (nullable = true)\n",
            " |-- id_transacao: long (nullable = true)\n",
            " |-- remetente: struct (nullable = true)\n",
            " |    |-- banco: string (nullable = true)\n",
            " |    |-- nome: string (nullable = true)\n",
            " |    |-- tipo: string (nullable = true)\n",
            " |-- transaction_date: string (nullable = true)\n",
            " |-- valor: double (nullable = true)\n",
            "\n"
          ]
        }
      ]
    },
    {
      "cell_type": "code",
      "source": [
        "# Como a base de dados se origina das transações feitas por uma unica conta de\n",
        "# uma única pessoa, podemos checar se realmente a coluna 'remetente' tem todos\n",
        "# os valores idênticos\n",
        "\n",
        "df.select('remetente').distinct().show()"
      ],
      "metadata": {
        "colab": {
          "base_uri": "https://localhost:8080/"
        },
        "id": "wzYXe0SvoWwC",
        "outputId": "962e40b7-dc57-4940-f75d-2c05108449fc"
      },
      "execution_count": 45,
      "outputs": [
        {
          "output_type": "stream",
          "name": "stdout",
          "text": [
            "+--------------------+\n",
            "|           remetente|\n",
            "+--------------------+\n",
            "|{BTG, Jonathan Go...|\n",
            "+--------------------+\n",
            "\n"
          ]
        }
      ]
    },
    {
      "cell_type": "code",
      "source": [
        "# Dropando coluna de remetente que não agrega na análise\n",
        "df = df.drop('remetente')"
      ],
      "metadata": {
        "id": "mTHpZZEcpd5x"
      },
      "execution_count": 46,
      "outputs": []
    },
    {
      "cell_type": "markdown",
      "source": [
        "Conforme schema acima, o dado de data de transação está em formato de string, o que deve ser corrigido. Além disso, dados do destinatário estão em formato de estrutura, o que também deve ser ajustado, para que cada coluna dentro dessa estrutura passe a integrar a tabela como qualquer outra coluna."
      ],
      "metadata": {
        "id": "M8AOhCAwiR8M"
      }
    },
    {
      "cell_type": "code",
      "source": [
        "from pyspark.sql.functions import to_timestamp, col\n",
        "df_aberta = df.withColumns({'destinatario_banco': col('destinatario').getField('banco'),\n",
        "                            'desinatario_nome': col('destinatario').getField('nome'),\n",
        "                            'destinatario_tipo': col('destinatario').getField('tipo')}).drop('destinatario')\n",
        "df_aberta.show()"
      ],
      "metadata": {
        "colab": {
          "base_uri": "https://localhost:8080/"
        },
        "id": "gR39F9SsiETN",
        "outputId": "f56a1a1f-1f34-4b2c-9206-bf168692c975"
      },
      "execution_count": 47,
      "outputs": [
        {
          "output_type": "stream",
          "name": "stdout",
          "text": [
            "+-------------+---------+------+------------+-------------------+------------------+------------------+--------------------+-----------------+\n",
            "|    categoria|chave_pix|fraude|id_transacao|   transaction_date|             valor|destinatario_banco|    desinatario_nome|destinatario_tipo|\n",
            "+-------------+---------+------+------------+-------------------+------------------+------------------+--------------------+-----------------+\n",
            "|       outros|aleatoria|     0|        1000|2021-07-16 05:00:55|            588.08|             Caixa|         Calebe Melo|               PF|\n",
            "|transferencia|  celular|     1|        1001|2022-04-20 12:34:01|           80682.5|             Caixa|  Davi Lucas Pereira|               PJ|\n",
            "|        lazer|      cpf|     0|        1002|2022-07-10 16:51:34|             549.9|            Nubank|      Sabrina Castro|               PF|\n",
            "|   transporte|aleatoria|     0|        1003|2022-10-20 10:57:36|             90.83|            Nubank|Francisco da Conc...|               PJ|\n",
            "|transferencia|    email|     0|        1004|2021-04-06 20:26:51|13272.619999999999|               BTG|   Isabelly Ferreira|               PJ|\n",
            "|        saude|aleatoria|     0|        1005|2022-07-24 15:22:27|           9347.58|              Itau|Srta. Maria da Cunha|               PJ|\n",
            "|    presentes|      cpf|     0|        1006|2022-10-05 19:20:24|           7836.76|                C6|     Catarina Duarte|               PF|\n",
            "|    vestuario|      cpf|     0|        1007|2021-04-24 17:36:34|           3883.62|                XP|       Vitor Correia|               PJ|\n",
            "|        saude|aleatoria|     0|        1008|2021-11-16 21:46:47|               4.0|                C6|         Theo Novaes|               PJ|\n",
            "|transferencia|      cpf|     0|        1009|2021-07-26 02:08:49|              24.3|                XP|     Isabel Caldeira|               PJ|\n",
            "|transferencia|aleatoria|     1|        1010|2022-03-14 15:34:45|           87555.3|            Nubank|Sr. Henrique Cardoso|               PF|\n",
            "|transferencia|      cpf|     1|        1011|2021-10-31 04:31:51|          21345.91|            Nubank|   Felipe Cavalcanti|               PJ|\n",
            "|transferencia|  celular|     1|        1012|2021-04-30 19:19:56|          73605.85|          Bradesco|     Dr. Davi da Luz|               PJ|\n",
            "|  alimentacao|      cpf|     0|        1013|2023-01-13 13:39:57|             93.53|                C6|    Stephany Cardoso|               PJ|\n",
            "|    vestuario|aleatoria|     0|        1014|2022-05-27 23:06:08|            564.11|              Itau|   Sra. Julia Araujo|               PJ|\n",
            "|        saude|    email|     0|        1015|2021-10-06 21:19:58|              3.59|            Nubank|     Carolina Farias|               PJ|\n",
            "|  alimentacao|    email|     0|        1016|2022-03-06 17:59:43|          19164.89|            Nubank|   Isabelly da Costa|               PJ|\n",
            "|    vestuario|aleatoria|     0|        1017|2022-04-01 18:17:40|             68.45|                C6|Joao Miguel Silveira|               PJ|\n",
            "|    vestuario|  celular|     0|        1018|2022-05-23 00:28:13|            941.25|                C6|       Matheus Moura|               PF|\n",
            "|transferencia|    email|     1|        1019|2021-08-04 23:22:37|27009.910000000003|              Itau| Gabrielly Goncalves|               PJ|\n",
            "+-------------+---------+------+------------+-------------------+------------------+------------------+--------------------+-----------------+\n",
            "only showing top 20 rows\n",
            "\n"
          ]
        }
      ]
    },
    {
      "cell_type": "code",
      "source": [
        "df_aberta = df_aberta.withColumn('data_transacao', to_timestamp('transaction_date', \"yyyy-MM-dd HH:mm:ss\")).drop('transaction_date')"
      ],
      "metadata": {
        "id": "Kg54s47tmmCS"
      },
      "execution_count": 48,
      "outputs": []
    },
    {
      "cell_type": "code",
      "source": [
        "from pyspark.sql.functions import date_format\n",
        "\n",
        "df_aberta = df_aberta.withColumn('ano_mes', date_format(col('data_transacao'), 'yyyy-MM'))"
      ],
      "metadata": {
        "id": "AOS48tmR8waW"
      },
      "execution_count": 87,
      "outputs": []
    },
    {
      "cell_type": "code",
      "source": [
        "df_aberta.printSchema()\n",
        "df_aberta.show()"
      ],
      "metadata": {
        "colab": {
          "base_uri": "https://localhost:8080/"
        },
        "id": "_4QmjF-Vrqr7",
        "outputId": "4db4f0cc-bdf9-4de0-ce31-c5ccee2bfba5"
      },
      "execution_count": 88,
      "outputs": [
        {
          "output_type": "stream",
          "name": "stdout",
          "text": [
            "root\n",
            " |-- categoria: string (nullable = true)\n",
            " |-- chave_pix: string (nullable = true)\n",
            " |-- fraude: long (nullable = true)\n",
            " |-- id_transacao: long (nullable = true)\n",
            " |-- valor: double (nullable = true)\n",
            " |-- destinatario_banco: string (nullable = true)\n",
            " |-- desinatario_nome: string (nullable = true)\n",
            " |-- destinatario_tipo: string (nullable = true)\n",
            " |-- data_transacao: timestamp (nullable = true)\n",
            " |-- ano_mes: string (nullable = true)\n",
            "\n",
            "+-------------+---------+------+------------+------------------+------------------+--------------------+-----------------+-------------------+-------+\n",
            "|    categoria|chave_pix|fraude|id_transacao|             valor|destinatario_banco|    desinatario_nome|destinatario_tipo|     data_transacao|ano_mes|\n",
            "+-------------+---------+------+------------+------------------+------------------+--------------------+-----------------+-------------------+-------+\n",
            "|       outros|aleatoria|     0|        1000|            588.08|             Caixa|         Calebe Melo|               PF|2021-07-16 05:00:55|2021-07|\n",
            "|transferencia|  celular|     1|        1001|           80682.5|             Caixa|  Davi Lucas Pereira|               PJ|2022-04-20 12:34:01|2022-04|\n",
            "|        lazer|      cpf|     0|        1002|             549.9|            Nubank|      Sabrina Castro|               PF|2022-07-10 16:51:34|2022-07|\n",
            "|   transporte|aleatoria|     0|        1003|             90.83|            Nubank|Francisco da Conc...|               PJ|2022-10-20 10:57:36|2022-10|\n",
            "|transferencia|    email|     0|        1004|13272.619999999999|               BTG|   Isabelly Ferreira|               PJ|2021-04-06 20:26:51|2021-04|\n",
            "|        saude|aleatoria|     0|        1005|           9347.58|              Itau|Srta. Maria da Cunha|               PJ|2022-07-24 15:22:27|2022-07|\n",
            "|    presentes|      cpf|     0|        1006|           7836.76|                C6|     Catarina Duarte|               PF|2022-10-05 19:20:24|2022-10|\n",
            "|    vestuario|      cpf|     0|        1007|           3883.62|                XP|       Vitor Correia|               PJ|2021-04-24 17:36:34|2021-04|\n",
            "|        saude|aleatoria|     0|        1008|               4.0|                C6|         Theo Novaes|               PJ|2021-11-16 21:46:47|2021-11|\n",
            "|transferencia|      cpf|     0|        1009|              24.3|                XP|     Isabel Caldeira|               PJ|2021-07-26 02:08:49|2021-07|\n",
            "|transferencia|aleatoria|     1|        1010|           87555.3|            Nubank|Sr. Henrique Cardoso|               PF|2022-03-14 15:34:45|2022-03|\n",
            "|transferencia|      cpf|     1|        1011|          21345.91|            Nubank|   Felipe Cavalcanti|               PJ|2021-10-31 04:31:51|2021-10|\n",
            "|transferencia|  celular|     1|        1012|          73605.85|          Bradesco|     Dr. Davi da Luz|               PJ|2021-04-30 19:19:56|2021-04|\n",
            "|  alimentacao|      cpf|     0|        1013|             93.53|                C6|    Stephany Cardoso|               PJ|2023-01-13 13:39:57|2023-01|\n",
            "|    vestuario|aleatoria|     0|        1014|            564.11|              Itau|   Sra. Julia Araujo|               PJ|2022-05-27 23:06:08|2022-05|\n",
            "|        saude|    email|     0|        1015|              3.59|            Nubank|     Carolina Farias|               PJ|2021-10-06 21:19:58|2021-10|\n",
            "|  alimentacao|    email|     0|        1016|          19164.89|            Nubank|   Isabelly da Costa|               PJ|2022-03-06 17:59:43|2022-03|\n",
            "|    vestuario|aleatoria|     0|        1017|             68.45|                C6|Joao Miguel Silveira|               PJ|2022-04-01 18:17:40|2022-04|\n",
            "|    vestuario|  celular|     0|        1018|            941.25|                C6|       Matheus Moura|               PF|2022-05-23 00:28:13|2022-05|\n",
            "|transferencia|    email|     1|        1019|27009.910000000003|              Itau| Gabrielly Goncalves|               PJ|2021-08-04 23:22:37|2021-08|\n",
            "+-------------+---------+------+------------+------------------+------------------+--------------------+-----------------+-------------------+-------+\n",
            "only showing top 20 rows\n",
            "\n"
          ]
        }
      ]
    },
    {
      "cell_type": "markdown",
      "source": [
        "##Análise exploratória de dados"
      ],
      "metadata": {
        "id": "sNJ0jv-HxufO"
      }
    },
    {
      "cell_type": "code",
      "source": [
        "df_aberta.select('valor').describe().show()"
      ],
      "metadata": {
        "colab": {
          "base_uri": "https://localhost:8080/"
        },
        "id": "BFmHQK-RrvIy",
        "outputId": "e5e7867b-9834-4375-ba88-888ff4d2fe88"
      },
      "execution_count": 89,
      "outputs": [
        {
          "output_type": "stream",
          "name": "stdout",
          "text": [
            "+-------+------------------+\n",
            "|summary|             valor|\n",
            "+-------+------------------+\n",
            "|  count|            100000|\n",
            "|   mean|10303.358732200059|\n",
            "| stddev| 20874.99768875586|\n",
            "|    min|               0.0|\n",
            "|    max|          89996.33|\n",
            "+-------+------------------+\n",
            "\n"
          ]
        }
      ]
    },
    {
      "cell_type": "code",
      "source": [
        "# Contagem das variáveis categóricas\n",
        "df_aberta.groupby('chave_pix').count().orderBy('count', ascending=0).show()\n",
        "df_aberta.groupby('destinatario_banco').count().orderBy('count', ascending=0).show()\n",
        "df_aberta.groupby('destinatario_tipo').count().orderBy('count', ascending=0).show()\n",
        "df_aberta.groupby('fraude').count().orderBy('count', ascending=0).show()\n",
        "df_aberta.groupby('categoria').count().orderBy('count', ascending=0).show()"
      ],
      "metadata": {
        "colab": {
          "base_uri": "https://localhost:8080/"
        },
        "id": "NI8aU4dKxzQB",
        "outputId": "80ad6884-2d9a-444d-db26-ce6cdce85640"
      },
      "execution_count": 90,
      "outputs": [
        {
          "output_type": "stream",
          "name": "stdout",
          "text": [
            "+---------+-----+\n",
            "|chave_pix|count|\n",
            "+---------+-----+\n",
            "|    email|25213|\n",
            "|      cpf|25114|\n",
            "|  celular|24863|\n",
            "|aleatoria|24810|\n",
            "+---------+-----+\n",
            "\n",
            "+------------------+-----+\n",
            "|destinatario_banco|count|\n",
            "+------------------+-----+\n",
            "|                XP|14401|\n",
            "|               BTG|14390|\n",
            "|            Nubank|14297|\n",
            "|              Itau|14281|\n",
            "|             Caixa|14240|\n",
            "|                C6|14204|\n",
            "|          Bradesco|14187|\n",
            "+------------------+-----+\n",
            "\n",
            "+-----------------+-----+\n",
            "|destinatario_tipo|count|\n",
            "+-----------------+-----+\n",
            "|               PJ|50244|\n",
            "|               PF|49756|\n",
            "+-----------------+-----+\n",
            "\n",
            "+------+-----+\n",
            "|fraude|count|\n",
            "+------+-----+\n",
            "|     0|84633|\n",
            "|     1|15367|\n",
            "+------+-----+\n",
            "\n",
            "+-------------+-----+\n",
            "|    categoria|count|\n",
            "+-------------+-----+\n",
            "|transferencia|24744|\n",
            "|  alimentacao| 9548|\n",
            "|    vestuario| 9503|\n",
            "|        saude| 9476|\n",
            "|        lazer| 9464|\n",
            "|     educacao| 9460|\n",
            "|       outros| 9377|\n",
            "|    presentes| 9254|\n",
            "|   transporte| 9174|\n",
            "+-------------+-----+\n",
            "\n"
          ]
        }
      ]
    },
    {
      "cell_type": "code",
      "source": [
        "# Média de valores das variáveis categóricas\n",
        "from pyspark.sql.types import DecimalType\n",
        "\n",
        "df_aberta.groupBy('chave_pix').avg('valor').select('chave_pix', col('avg(valor)').cast(DecimalType(38,2)).alias('media_valor')).show()\n",
        "df_aberta.groupBy('destinatario_banco').avg('valor').select('destinatario_banco', col('avg(valor)').cast(DecimalType(38,2)).alias('media_valor')).show()\n",
        "df_aberta.groupBy('destinatario_tipo').avg('valor').select('destinatario_tipo', col('avg(valor)').cast(DecimalType(38,2)).alias('media_valor')).show()\n",
        "df_aberta.groupBy('fraude').avg('valor').select('fraude', col('avg(valor)').cast(DecimalType(38,2)).alias('media_valor')).show()\n",
        "df_aberta.groupBy('categoria').avg('valor').select('categoria', col('avg(valor)').cast(DecimalType(38,2)).alias('media_valor')).show()"
      ],
      "metadata": {
        "colab": {
          "base_uri": "https://localhost:8080/"
        },
        "id": "xwTpF1NUy4gP",
        "outputId": "6c291770-774b-4265-9e25-df38153ecff9"
      },
      "execution_count": 113,
      "outputs": [
        {
          "output_type": "stream",
          "name": "stdout",
          "text": [
            "+---------+-----------+\n",
            "|chave_pix|media_valor|\n",
            "+---------+-----------+\n",
            "|aleatoria|   10374.64|\n",
            "|  celular|   10191.64|\n",
            "|    email|   10235.63|\n",
            "|      cpf|   10411.54|\n",
            "+---------+-----------+\n",
            "\n",
            "+------------------+-----------+\n",
            "|destinatario_banco|media_valor|\n",
            "+------------------+-----------+\n",
            "|            Nubank|   10316.48|\n",
            "|                C6|   10309.50|\n",
            "|               BTG|   10122.30|\n",
            "|                XP|   10328.07|\n",
            "|             Caixa|   10254.86|\n",
            "|          Bradesco|   10564.19|\n",
            "|              Itau|   10230.88|\n",
            "+------------------+-----------+\n",
            "\n",
            "+-----------------+-----------+\n",
            "|destinatario_tipo|media_valor|\n",
            "+-----------------+-----------+\n",
            "|               PF|   10314.21|\n",
            "|               PJ|   10292.61|\n",
            "+-----------------+-----------+\n",
            "\n",
            "+------+-----------+\n",
            "|fraude|media_valor|\n",
            "+------+-----------+\n",
            "|     0|    2230.07|\n",
            "|     1|   54766.61|\n",
            "+------+-----------+\n",
            "\n",
            "+-------------+-----------+\n",
            "|    categoria|media_valor|\n",
            "+-------------+-----------+\n",
            "|        saude|    2198.56|\n",
            "|        lazer|    2154.26|\n",
            "|    presentes|    2287.68|\n",
            "|transferencia|   34877.57|\n",
            "|    vestuario|    2269.62|\n",
            "|  alimentacao|    2217.82|\n",
            "|       outros|    2218.73|\n",
            "|   transporte|    2232.30|\n",
            "|     educacao|    2209.89|\n",
            "+-------------+-----------+\n",
            "\n"
          ]
        }
      ]
    },
    {
      "cell_type": "code",
      "source": [
        "from pyspark.sql.functions import count, avg, round\n",
        "\n",
        "df_aberta.groupBy('ano_mes').agg(\n",
        "  count('*').alias('contagem'),\n",
        "  round(avg('valor'), 2).alias('media_valor')).orderBy('ano_mes', ascending=1).show(25)"
      ],
      "metadata": {
        "colab": {
          "base_uri": "https://localhost:8080/"
        },
        "id": "fbDhqJABILK_",
        "outputId": "7e2c89e7-8669-41de-cd4a-e41f793513e1"
      },
      "execution_count": 127,
      "outputs": [
        {
          "output_type": "stream",
          "name": "stdout",
          "text": [
            "+-------+--------+-----------+\n",
            "|ano_mes|contagem|media_valor|\n",
            "+-------+--------+-----------+\n",
            "|2021-01|    2415|    9961.15|\n",
            "|2021-02|    3794|   10254.57|\n",
            "|2021-03|    4179|   10226.79|\n",
            "|2021-04|    4061|   10174.01|\n",
            "|2021-05|    4303|   10009.76|\n",
            "|2021-06|    4238|   10185.07|\n",
            "|2021-07|    4159|   10171.93|\n",
            "|2021-08|    4250|   11072.61|\n",
            "|2021-09|    4096|   10280.05|\n",
            "|2021-10|    4234|    11022.0|\n",
            "|2021-11|    4050|   10227.24|\n",
            "|2021-12|    4232|   10480.79|\n",
            "|2022-01|    4239|   10507.26|\n",
            "|2022-02|    3855|    10123.1|\n",
            "|2022-03|    4283|   10558.32|\n",
            "|2022-04|    4108|   10355.51|\n",
            "|2022-05|    4241|   10297.86|\n",
            "|2022-06|    4091|   10172.86|\n",
            "|2022-07|    4336|   10040.67|\n",
            "|2022-08|    4228|   10797.37|\n",
            "|2022-09|    4130|   10462.07|\n",
            "|2022-10|    4201|   10280.49|\n",
            "|2022-11|    4098|    9824.62|\n",
            "|2022-12|    4220|    9742.44|\n",
            "|2023-01|    1959|   10002.37|\n",
            "+-------+--------+-----------+\n",
            "\n"
          ]
        }
      ]
    },
    {
      "cell_type": "code",
      "source": [
        ""
      ],
      "metadata": {
        "id": "D1FkOrWEBhGa"
      },
      "execution_count": null,
      "outputs": []
    }
  ]
}