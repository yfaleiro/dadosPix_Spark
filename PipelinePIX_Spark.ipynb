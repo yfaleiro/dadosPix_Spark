{
  "nbformat": 4,
  "nbformat_minor": 0,
  "metadata": {
    "colab": {
      "provenance": [],
      "collapsed_sections": [
        "QByIWQY7ffqS",
        "4OSyyzkqho4j"
      ],
      "authorship_tag": "ABX9TyMxdVeNT35obM9bUMUw51Go",
      "include_colab_link": true
    },
    "kernelspec": {
      "name": "python3",
      "display_name": "Python 3"
    },
    "language_info": {
      "name": "python"
    }
  },
  "cells": [
    {
      "cell_type": "markdown",
      "metadata": {
        "id": "view-in-github",
        "colab_type": "text"
      },
      "source": [
        "<a href=\"https://colab.research.google.com/github/yfaleiro/dadosPix_Spark/blob/main/PipelinePIX_Spark.ipynb\" target=\"_parent\"><img src=\"https://colab.research.google.com/assets/colab-badge.svg\" alt=\"Open In Colab\"/></a>"
      ]
    },
    {
      "cell_type": "markdown",
      "source": [
        "##Setup"
      ],
      "metadata": {
        "id": "QByIWQY7ffqS"
      }
    },
    {
      "cell_type": "code",
      "source": [
        "!pip install pyspark"
      ],
      "metadata": {
        "colab": {
          "base_uri": "https://localhost:8080/"
        },
        "id": "c8aMlrckfnQy",
        "outputId": "7d8b4197-b31b-4ffb-aa16-7550fcdebbf9"
      },
      "execution_count": 1,
      "outputs": [
        {
          "output_type": "stream",
          "name": "stdout",
          "text": [
            "Collecting pyspark\n",
            "  Downloading pyspark-3.5.1.tar.gz (317.0 MB)\n",
            "\u001b[2K     \u001b[90m━━━━━━━━━━━━━━━━━━━━━━━━━━━━━━━━━━━━━━━━\u001b[0m \u001b[32m317.0/317.0 MB\u001b[0m \u001b[31m4.4 MB/s\u001b[0m eta \u001b[36m0:00:00\u001b[0m\n",
            "\u001b[?25h  Preparing metadata (setup.py) ... \u001b[?25l\u001b[?25hdone\n",
            "Requirement already satisfied: py4j==0.10.9.7 in /usr/local/lib/python3.10/dist-packages (from pyspark) (0.10.9.7)\n",
            "Building wheels for collected packages: pyspark\n",
            "  Building wheel for pyspark (setup.py) ... \u001b[?25l\u001b[?25hdone\n",
            "  Created wheel for pyspark: filename=pyspark-3.5.1-py2.py3-none-any.whl size=317488491 sha256=dd47867ed17287afc3b866001b16989f7818e471c271b99ece8868cdaed4d193\n",
            "  Stored in directory: /root/.cache/pip/wheels/80/1d/60/2c256ed38dddce2fdd93be545214a63e02fbd8d74fb0b7f3a6\n",
            "Successfully built pyspark\n",
            "Installing collected packages: pyspark\n",
            "Successfully installed pyspark-3.5.1\n"
          ]
        }
      ]
    },
    {
      "cell_type": "code",
      "execution_count": 2,
      "metadata": {
        "id": "Q2sGTBn6fC-s"
      },
      "outputs": [],
      "source": [
        "# Iniciando sessão spark\n",
        "from pyspark.sql import SparkSession\n",
        "\n",
        "spark = (SparkSession.builder.config('spark.ui.port', '4050').appName('PipelinePix').getOrCreate())\n"
      ]
    },
    {
      "cell_type": "code",
      "source": [
        "df = spark.read.json(path='./dados_transacoes.json')"
      ],
      "metadata": {
        "id": "i_3uDiTRgOKP"
      },
      "execution_count": 24,
      "outputs": []
    },
    {
      "cell_type": "markdown",
      "source": [
        "##Limpeza dos dados"
      ],
      "metadata": {
        "id": "4OSyyzkqho4j"
      }
    },
    {
      "cell_type": "code",
      "source": [
        "df.show()"
      ],
      "metadata": {
        "colab": {
          "base_uri": "https://localhost:8080/"
        },
        "id": "OeTHiuNihZI0",
        "outputId": "c3e58b29-1872-452b-b33f-916ab62968fa"
      },
      "execution_count": 25,
      "outputs": [
        {
          "output_type": "stream",
          "name": "stdout",
          "text": [
            "+-------------+---------+--------------------+------+------------+--------------------+-------------------+------------------+\n",
            "|    categoria|chave_pix|        destinatario|fraude|id_transacao|           remetente|   transaction_date|             valor|\n",
            "+-------------+---------+--------------------+------+------------+--------------------+-------------------+------------------+\n",
            "|       outros|aleatoria|{Caixa, Calebe Me...|     0|        1000|{BTG, Jonathan Go...|2021-07-16 05:00:55|            588.08|\n",
            "|transferencia|  celular|{Caixa, Davi Luca...|     1|        1001|{BTG, Jonathan Go...|2022-04-20 12:34:01|           80682.5|\n",
            "|        lazer|      cpf|{Nubank, Sabrina ...|     0|        1002|{BTG, Jonathan Go...|2022-07-10 16:51:34|             549.9|\n",
            "|   transporte|aleatoria|{Nubank, Francisc...|     0|        1003|{BTG, Jonathan Go...|2022-10-20 10:57:36|             90.83|\n",
            "|transferencia|    email|{BTG, Isabelly Fe...|     0|        1004|{BTG, Jonathan Go...|2021-04-06 20:26:51|13272.619999999999|\n",
            "|        saude|aleatoria|{Itau, Srta. Mari...|     0|        1005|{BTG, Jonathan Go...|2022-07-24 15:22:27|           9347.58|\n",
            "|    presentes|      cpf|{C6, Catarina Dua...|     0|        1006|{BTG, Jonathan Go...|2022-10-05 19:20:24|           7836.76|\n",
            "|    vestuario|      cpf|{XP, Vitor Correi...|     0|        1007|{BTG, Jonathan Go...|2021-04-24 17:36:34|           3883.62|\n",
            "|        saude|aleatoria|{C6, Theo Novaes,...|     0|        1008|{BTG, Jonathan Go...|2021-11-16 21:46:47|               4.0|\n",
            "|transferencia|      cpf|{XP, Isabel Calde...|     0|        1009|{BTG, Jonathan Go...|2021-07-26 02:08:49|              24.3|\n",
            "|transferencia|aleatoria|{Nubank, Sr. Henr...|     1|        1010|{BTG, Jonathan Go...|2022-03-14 15:34:45|           87555.3|\n",
            "|transferencia|      cpf|{Nubank, Felipe C...|     1|        1011|{BTG, Jonathan Go...|2021-10-31 04:31:51|          21345.91|\n",
            "|transferencia|  celular|{Bradesco, Dr. Da...|     1|        1012|{BTG, Jonathan Go...|2021-04-30 19:19:56|          73605.85|\n",
            "|  alimentacao|      cpf|{C6, Stephany Car...|     0|        1013|{BTG, Jonathan Go...|2023-01-13 13:39:57|             93.53|\n",
            "|    vestuario|aleatoria|{Itau, Sra. Julia...|     0|        1014|{BTG, Jonathan Go...|2022-05-27 23:06:08|            564.11|\n",
            "|        saude|    email|{Nubank, Carolina...|     0|        1015|{BTG, Jonathan Go...|2021-10-06 21:19:58|              3.59|\n",
            "|  alimentacao|    email|{Nubank, Isabelly...|     0|        1016|{BTG, Jonathan Go...|2022-03-06 17:59:43|          19164.89|\n",
            "|    vestuario|aleatoria|{C6, Joao Miguel ...|     0|        1017|{BTG, Jonathan Go...|2022-04-01 18:17:40|             68.45|\n",
            "|    vestuario|  celular|{C6, Matheus Mour...|     0|        1018|{BTG, Jonathan Go...|2022-05-23 00:28:13|            941.25|\n",
            "|transferencia|    email|{Itau, Gabrielly ...|     1|        1019|{BTG, Jonathan Go...|2021-08-04 23:22:37|27009.910000000003|\n",
            "+-------------+---------+--------------------+------+------------+--------------------+-------------------+------------------+\n",
            "only showing top 20 rows\n",
            "\n"
          ]
        }
      ]
    },
    {
      "cell_type": "code",
      "source": [
        "df.printSchema()"
      ],
      "metadata": {
        "colab": {
          "base_uri": "https://localhost:8080/"
        },
        "id": "lPrBYt3DhhS7",
        "outputId": "aef8cb82-9398-44ca-e526-2107cb60b008"
      },
      "execution_count": 26,
      "outputs": [
        {
          "output_type": "stream",
          "name": "stdout",
          "text": [
            "root\n",
            " |-- categoria: string (nullable = true)\n",
            " |-- chave_pix: string (nullable = true)\n",
            " |-- destinatario: struct (nullable = true)\n",
            " |    |-- banco: string (nullable = true)\n",
            " |    |-- nome: string (nullable = true)\n",
            " |    |-- tipo: string (nullable = true)\n",
            " |-- fraude: long (nullable = true)\n",
            " |-- id_transacao: long (nullable = true)\n",
            " |-- remetente: struct (nullable = true)\n",
            " |    |-- banco: string (nullable = true)\n",
            " |    |-- nome: string (nullable = true)\n",
            " |    |-- tipo: string (nullable = true)\n",
            " |-- transaction_date: string (nullable = true)\n",
            " |-- valor: double (nullable = true)\n",
            "\n"
          ]
        }
      ]
    },
    {
      "cell_type": "code",
      "source": [
        "# Como a base de dados se origina das transações feitas por uma unica conta de\n",
        "# uma única pessoa, podemos checar se realmente a coluna 'remetente' tem todos\n",
        "# os valores idênticos\n",
        "\n",
        "df.select('remetente').distinct().show()"
      ],
      "metadata": {
        "colab": {
          "base_uri": "https://localhost:8080/"
        },
        "id": "wzYXe0SvoWwC",
        "outputId": "a61284a5-ac1a-417a-dd68-ae2acdbefe5a"
      },
      "execution_count": 27,
      "outputs": [
        {
          "output_type": "stream",
          "name": "stdout",
          "text": [
            "+--------------------+\n",
            "|           remetente|\n",
            "+--------------------+\n",
            "|{BTG, Jonathan Go...|\n",
            "+--------------------+\n",
            "\n"
          ]
        }
      ]
    },
    {
      "cell_type": "code",
      "source": [
        "# Dropando coluna de remetente que não agrega na análise\n",
        "df = df.drop('remetente')"
      ],
      "metadata": {
        "id": "mTHpZZEcpd5x"
      },
      "execution_count": 28,
      "outputs": []
    },
    {
      "cell_type": "markdown",
      "source": [
        "Conforme schema acima, o dado de data de transação está em formato de string, o que deve ser corrigido. Além disso, dados do destinatário estão em formato de estrutura, o que também deve ser ajustado, para que cada coluna dentro dessa estrutura passe a integrar a tabela como qualquer outra coluna."
      ],
      "metadata": {
        "id": "M8AOhCAwiR8M"
      }
    },
    {
      "cell_type": "code",
      "source": [
        "from pyspark.sql.functions import to_timestamp, col\n",
        "df_aberta = df.withColumns({'destinatario_banco': col('destinatario').getField('banco'),\n",
        "                            'destinatario_nome': col('destinatario').getField('nome'),\n",
        "                            'destinatario_tipo': col('destinatario').getField('tipo')}).drop('destinatario')\n",
        "df_aberta.show()"
      ],
      "metadata": {
        "colab": {
          "base_uri": "https://localhost:8080/"
        },
        "id": "gR39F9SsiETN",
        "outputId": "3980b19e-3dbc-4ba7-b0ae-9cf5f38ae139"
      },
      "execution_count": 29,
      "outputs": [
        {
          "output_type": "stream",
          "name": "stdout",
          "text": [
            "+-------------+---------+------+------------+-------------------+------------------+------------------+--------------------+-----------------+\n",
            "|    categoria|chave_pix|fraude|id_transacao|   transaction_date|             valor|destinatario_banco|   destinatario_nome|destinatario_tipo|\n",
            "+-------------+---------+------+------------+-------------------+------------------+------------------+--------------------+-----------------+\n",
            "|       outros|aleatoria|     0|        1000|2021-07-16 05:00:55|            588.08|             Caixa|         Calebe Melo|               PF|\n",
            "|transferencia|  celular|     1|        1001|2022-04-20 12:34:01|           80682.5|             Caixa|  Davi Lucas Pereira|               PJ|\n",
            "|        lazer|      cpf|     0|        1002|2022-07-10 16:51:34|             549.9|            Nubank|      Sabrina Castro|               PF|\n",
            "|   transporte|aleatoria|     0|        1003|2022-10-20 10:57:36|             90.83|            Nubank|Francisco da Conc...|               PJ|\n",
            "|transferencia|    email|     0|        1004|2021-04-06 20:26:51|13272.619999999999|               BTG|   Isabelly Ferreira|               PJ|\n",
            "|        saude|aleatoria|     0|        1005|2022-07-24 15:22:27|           9347.58|              Itau|Srta. Maria da Cunha|               PJ|\n",
            "|    presentes|      cpf|     0|        1006|2022-10-05 19:20:24|           7836.76|                C6|     Catarina Duarte|               PF|\n",
            "|    vestuario|      cpf|     0|        1007|2021-04-24 17:36:34|           3883.62|                XP|       Vitor Correia|               PJ|\n",
            "|        saude|aleatoria|     0|        1008|2021-11-16 21:46:47|               4.0|                C6|         Theo Novaes|               PJ|\n",
            "|transferencia|      cpf|     0|        1009|2021-07-26 02:08:49|              24.3|                XP|     Isabel Caldeira|               PJ|\n",
            "|transferencia|aleatoria|     1|        1010|2022-03-14 15:34:45|           87555.3|            Nubank|Sr. Henrique Cardoso|               PF|\n",
            "|transferencia|      cpf|     1|        1011|2021-10-31 04:31:51|          21345.91|            Nubank|   Felipe Cavalcanti|               PJ|\n",
            "|transferencia|  celular|     1|        1012|2021-04-30 19:19:56|          73605.85|          Bradesco|     Dr. Davi da Luz|               PJ|\n",
            "|  alimentacao|      cpf|     0|        1013|2023-01-13 13:39:57|             93.53|                C6|    Stephany Cardoso|               PJ|\n",
            "|    vestuario|aleatoria|     0|        1014|2022-05-27 23:06:08|            564.11|              Itau|   Sra. Julia Araujo|               PJ|\n",
            "|        saude|    email|     0|        1015|2021-10-06 21:19:58|              3.59|            Nubank|     Carolina Farias|               PJ|\n",
            "|  alimentacao|    email|     0|        1016|2022-03-06 17:59:43|          19164.89|            Nubank|   Isabelly da Costa|               PJ|\n",
            "|    vestuario|aleatoria|     0|        1017|2022-04-01 18:17:40|             68.45|                C6|Joao Miguel Silveira|               PJ|\n",
            "|    vestuario|  celular|     0|        1018|2022-05-23 00:28:13|            941.25|                C6|       Matheus Moura|               PF|\n",
            "|transferencia|    email|     1|        1019|2021-08-04 23:22:37|27009.910000000003|              Itau| Gabrielly Goncalves|               PJ|\n",
            "+-------------+---------+------+------------+-------------------+------------------+------------------+--------------------+-----------------+\n",
            "only showing top 20 rows\n",
            "\n"
          ]
        }
      ]
    },
    {
      "cell_type": "code",
      "source": [
        "df_aberta = df_aberta.withColumn('data_transacao', to_timestamp('transaction_date', \"yyyy-MM-dd HH:mm:ss\")).drop('transaction_date')"
      ],
      "metadata": {
        "id": "Kg54s47tmmCS"
      },
      "execution_count": 30,
      "outputs": []
    },
    {
      "cell_type": "code",
      "source": [
        "from pyspark.sql.functions import date_format\n",
        "\n",
        "df_aberta = df_aberta.withColumn('ano_mes', date_format(col('data_transacao'), 'yyyy-MM'))"
      ],
      "metadata": {
        "id": "AOS48tmR8waW"
      },
      "execution_count": 31,
      "outputs": []
    },
    {
      "cell_type": "code",
      "source": [
        "df_aberta.printSchema()\n",
        "df_aberta.show()"
      ],
      "metadata": {
        "colab": {
          "base_uri": "https://localhost:8080/"
        },
        "id": "_4QmjF-Vrqr7",
        "outputId": "52e5b85f-4863-4ef5-80ea-c46b9d8068ac"
      },
      "execution_count": 32,
      "outputs": [
        {
          "output_type": "stream",
          "name": "stdout",
          "text": [
            "root\n",
            " |-- categoria: string (nullable = true)\n",
            " |-- chave_pix: string (nullable = true)\n",
            " |-- fraude: long (nullable = true)\n",
            " |-- id_transacao: long (nullable = true)\n",
            " |-- valor: double (nullable = true)\n",
            " |-- destinatario_banco: string (nullable = true)\n",
            " |-- destinatario_nome: string (nullable = true)\n",
            " |-- destinatario_tipo: string (nullable = true)\n",
            " |-- data_transacao: timestamp (nullable = true)\n",
            " |-- ano_mes: string (nullable = true)\n",
            "\n",
            "+-------------+---------+------+------------+------------------+------------------+--------------------+-----------------+-------------------+-------+\n",
            "|    categoria|chave_pix|fraude|id_transacao|             valor|destinatario_banco|   destinatario_nome|destinatario_tipo|     data_transacao|ano_mes|\n",
            "+-------------+---------+------+------------+------------------+------------------+--------------------+-----------------+-------------------+-------+\n",
            "|       outros|aleatoria|     0|        1000|            588.08|             Caixa|         Calebe Melo|               PF|2021-07-16 05:00:55|2021-07|\n",
            "|transferencia|  celular|     1|        1001|           80682.5|             Caixa|  Davi Lucas Pereira|               PJ|2022-04-20 12:34:01|2022-04|\n",
            "|        lazer|      cpf|     0|        1002|             549.9|            Nubank|      Sabrina Castro|               PF|2022-07-10 16:51:34|2022-07|\n",
            "|   transporte|aleatoria|     0|        1003|             90.83|            Nubank|Francisco da Conc...|               PJ|2022-10-20 10:57:36|2022-10|\n",
            "|transferencia|    email|     0|        1004|13272.619999999999|               BTG|   Isabelly Ferreira|               PJ|2021-04-06 20:26:51|2021-04|\n",
            "|        saude|aleatoria|     0|        1005|           9347.58|              Itau|Srta. Maria da Cunha|               PJ|2022-07-24 15:22:27|2022-07|\n",
            "|    presentes|      cpf|     0|        1006|           7836.76|                C6|     Catarina Duarte|               PF|2022-10-05 19:20:24|2022-10|\n",
            "|    vestuario|      cpf|     0|        1007|           3883.62|                XP|       Vitor Correia|               PJ|2021-04-24 17:36:34|2021-04|\n",
            "|        saude|aleatoria|     0|        1008|               4.0|                C6|         Theo Novaes|               PJ|2021-11-16 21:46:47|2021-11|\n",
            "|transferencia|      cpf|     0|        1009|              24.3|                XP|     Isabel Caldeira|               PJ|2021-07-26 02:08:49|2021-07|\n",
            "|transferencia|aleatoria|     1|        1010|           87555.3|            Nubank|Sr. Henrique Cardoso|               PF|2022-03-14 15:34:45|2022-03|\n",
            "|transferencia|      cpf|     1|        1011|          21345.91|            Nubank|   Felipe Cavalcanti|               PJ|2021-10-31 04:31:51|2021-10|\n",
            "|transferencia|  celular|     1|        1012|          73605.85|          Bradesco|     Dr. Davi da Luz|               PJ|2021-04-30 19:19:56|2021-04|\n",
            "|  alimentacao|      cpf|     0|        1013|             93.53|                C6|    Stephany Cardoso|               PJ|2023-01-13 13:39:57|2023-01|\n",
            "|    vestuario|aleatoria|     0|        1014|            564.11|              Itau|   Sra. Julia Araujo|               PJ|2022-05-27 23:06:08|2022-05|\n",
            "|        saude|    email|     0|        1015|              3.59|            Nubank|     Carolina Farias|               PJ|2021-10-06 21:19:58|2021-10|\n",
            "|  alimentacao|    email|     0|        1016|          19164.89|            Nubank|   Isabelly da Costa|               PJ|2022-03-06 17:59:43|2022-03|\n",
            "|    vestuario|aleatoria|     0|        1017|             68.45|                C6|Joao Miguel Silveira|               PJ|2022-04-01 18:17:40|2022-04|\n",
            "|    vestuario|  celular|     0|        1018|            941.25|                C6|       Matheus Moura|               PF|2022-05-23 00:28:13|2022-05|\n",
            "|transferencia|    email|     1|        1019|27009.910000000003|              Itau| Gabrielly Goncalves|               PJ|2021-08-04 23:22:37|2021-08|\n",
            "+-------------+---------+------+------------+------------------+------------------+--------------------+-----------------+-------------------+-------+\n",
            "only showing top 20 rows\n",
            "\n"
          ]
        }
      ]
    },
    {
      "cell_type": "markdown",
      "source": [
        "##Análise exploratória de dados"
      ],
      "metadata": {
        "id": "sNJ0jv-HxufO"
      }
    },
    {
      "cell_type": "code",
      "source": [
        "df_aberta.select('valor').describe().show()"
      ],
      "metadata": {
        "colab": {
          "base_uri": "https://localhost:8080/"
        },
        "id": "BFmHQK-RrvIy",
        "outputId": "e4653727-20c4-4edc-92f9-c46258ff9d4e"
      },
      "execution_count": 33,
      "outputs": [
        {
          "output_type": "stream",
          "name": "stdout",
          "text": [
            "+-------+------------------+\n",
            "|summary|             valor|\n",
            "+-------+------------------+\n",
            "|  count|            100000|\n",
            "|   mean|10303.358732200059|\n",
            "| stddev| 20874.99768875586|\n",
            "|    min|               0.0|\n",
            "|    max|          89996.33|\n",
            "+-------+------------------+\n",
            "\n"
          ]
        }
      ]
    },
    {
      "cell_type": "code",
      "source": [
        "# Contagem das variáveis categóricas\n",
        "df_aberta.groupby('chave_pix').count().orderBy('count', ascending=0).show()\n",
        "df_aberta.groupby('destinatario_banco').count().orderBy('count', ascending=0).show()\n",
        "df_aberta.groupby('destinatario_tipo').count().orderBy('count', ascending=0).show()\n",
        "df_aberta.groupby('fraude').count().orderBy('count', ascending=0).show()\n",
        "df_aberta.groupby('categoria').count().orderBy('count', ascending=0).show()"
      ],
      "metadata": {
        "colab": {
          "base_uri": "https://localhost:8080/"
        },
        "id": "NI8aU4dKxzQB",
        "outputId": "ba157824-fda8-4145-95ad-9bb2449cbb29"
      },
      "execution_count": 34,
      "outputs": [
        {
          "output_type": "stream",
          "name": "stdout",
          "text": [
            "+---------+-----+\n",
            "|chave_pix|count|\n",
            "+---------+-----+\n",
            "|    email|25213|\n",
            "|      cpf|25114|\n",
            "|  celular|24863|\n",
            "|aleatoria|24810|\n",
            "+---------+-----+\n",
            "\n",
            "+------------------+-----+\n",
            "|destinatario_banco|count|\n",
            "+------------------+-----+\n",
            "|                XP|14401|\n",
            "|               BTG|14390|\n",
            "|            Nubank|14297|\n",
            "|              Itau|14281|\n",
            "|             Caixa|14240|\n",
            "|                C6|14204|\n",
            "|          Bradesco|14187|\n",
            "+------------------+-----+\n",
            "\n",
            "+-----------------+-----+\n",
            "|destinatario_tipo|count|\n",
            "+-----------------+-----+\n",
            "|               PJ|50244|\n",
            "|               PF|49756|\n",
            "+-----------------+-----+\n",
            "\n",
            "+------+-----+\n",
            "|fraude|count|\n",
            "+------+-----+\n",
            "|     0|84633|\n",
            "|     1|15367|\n",
            "+------+-----+\n",
            "\n",
            "+-------------+-----+\n",
            "|    categoria|count|\n",
            "+-------------+-----+\n",
            "|transferencia|24744|\n",
            "|  alimentacao| 9548|\n",
            "|    vestuario| 9503|\n",
            "|        saude| 9476|\n",
            "|        lazer| 9464|\n",
            "|     educacao| 9460|\n",
            "|       outros| 9377|\n",
            "|    presentes| 9254|\n",
            "|   transporte| 9174|\n",
            "+-------------+-----+\n",
            "\n"
          ]
        }
      ]
    },
    {
      "cell_type": "code",
      "source": [
        "# Média de valores das variáveis categóricas\n",
        "from pyspark.sql.types import DecimalType\n",
        "\n",
        "df_aberta.groupBy('chave_pix').avg('valor').select('chave_pix', col('avg(valor)').cast(DecimalType(38,2)).alias('media_valor')).show()\n",
        "df_aberta.groupBy('destinatario_banco').avg('valor').select('destinatario_banco', col('avg(valor)').cast(DecimalType(38,2)).alias('media_valor')).show()\n",
        "df_aberta.groupBy('destinatario_tipo').avg('valor').select('destinatario_tipo', col('avg(valor)').cast(DecimalType(38,2)).alias('media_valor')).show()\n",
        "df_aberta.groupBy('fraude').avg('valor').select('fraude', col('avg(valor)').cast(DecimalType(38,2)).alias('media_valor')).show()\n",
        "df_aberta.groupBy('categoria').avg('valor').select('categoria', col('avg(valor)').cast(DecimalType(38,2)).alias('media_valor')).show()"
      ],
      "metadata": {
        "colab": {
          "base_uri": "https://localhost:8080/"
        },
        "id": "xwTpF1NUy4gP",
        "outputId": "e4dd63eb-b844-4600-9b14-1018206d0d42"
      },
      "execution_count": 35,
      "outputs": [
        {
          "output_type": "stream",
          "name": "stdout",
          "text": [
            "+---------+-----------+\n",
            "|chave_pix|media_valor|\n",
            "+---------+-----------+\n",
            "|aleatoria|   10374.64|\n",
            "|  celular|   10191.64|\n",
            "|    email|   10235.63|\n",
            "|      cpf|   10411.54|\n",
            "+---------+-----------+\n",
            "\n",
            "+------------------+-----------+\n",
            "|destinatario_banco|media_valor|\n",
            "+------------------+-----------+\n",
            "|            Nubank|   10316.48|\n",
            "|                C6|   10309.50|\n",
            "|               BTG|   10122.30|\n",
            "|                XP|   10328.07|\n",
            "|             Caixa|   10254.86|\n",
            "|          Bradesco|   10564.19|\n",
            "|              Itau|   10230.88|\n",
            "+------------------+-----------+\n",
            "\n",
            "+-----------------+-----------+\n",
            "|destinatario_tipo|media_valor|\n",
            "+-----------------+-----------+\n",
            "|               PF|   10314.21|\n",
            "|               PJ|   10292.61|\n",
            "+-----------------+-----------+\n",
            "\n",
            "+------+-----------+\n",
            "|fraude|media_valor|\n",
            "+------+-----------+\n",
            "|     0|    2230.07|\n",
            "|     1|   54766.61|\n",
            "+------+-----------+\n",
            "\n",
            "+-------------+-----------+\n",
            "|    categoria|media_valor|\n",
            "+-------------+-----------+\n",
            "|        saude|    2198.56|\n",
            "|        lazer|    2154.26|\n",
            "|    presentes|    2287.68|\n",
            "|transferencia|   34877.57|\n",
            "|    vestuario|    2269.62|\n",
            "|  alimentacao|    2217.82|\n",
            "|       outros|    2218.73|\n",
            "|   transporte|    2232.30|\n",
            "|     educacao|    2209.89|\n",
            "+-------------+-----------+\n",
            "\n"
          ]
        }
      ]
    },
    {
      "cell_type": "code",
      "source": [
        "from pyspark.sql.functions import count, avg, round\n",
        "\n",
        "df_aberta.groupBy('ano_mes').agg(\n",
        "  count('*').alias('contagem'),\n",
        "  round(avg('valor'), 2).alias('media_valor')).orderBy('ano_mes', ascending=1).show(25)"
      ],
      "metadata": {
        "colab": {
          "base_uri": "https://localhost:8080/"
        },
        "id": "fbDhqJABILK_",
        "outputId": "78aa9783-43c5-41cd-efc2-4f4f9be870a2"
      },
      "execution_count": 36,
      "outputs": [
        {
          "output_type": "stream",
          "name": "stdout",
          "text": [
            "+-------+--------+-----------+\n",
            "|ano_mes|contagem|media_valor|\n",
            "+-------+--------+-----------+\n",
            "|2021-01|    2415|    9961.15|\n",
            "|2021-02|    3794|   10254.57|\n",
            "|2021-03|    4179|   10226.79|\n",
            "|2021-04|    4061|   10174.01|\n",
            "|2021-05|    4303|   10009.76|\n",
            "|2021-06|    4238|   10185.07|\n",
            "|2021-07|    4159|   10171.93|\n",
            "|2021-08|    4250|   11072.61|\n",
            "|2021-09|    4096|   10280.05|\n",
            "|2021-10|    4234|    11022.0|\n",
            "|2021-11|    4050|   10227.24|\n",
            "|2021-12|    4232|   10480.79|\n",
            "|2022-01|    4239|   10507.26|\n",
            "|2022-02|    3855|    10123.1|\n",
            "|2022-03|    4283|   10558.32|\n",
            "|2022-04|    4108|   10355.51|\n",
            "|2022-05|    4241|   10297.86|\n",
            "|2022-06|    4091|   10172.86|\n",
            "|2022-07|    4336|   10040.67|\n",
            "|2022-08|    4228|   10797.37|\n",
            "|2022-09|    4130|   10462.07|\n",
            "|2022-10|    4201|   10280.49|\n",
            "|2022-11|    4098|    9824.62|\n",
            "|2022-12|    4220|    9742.44|\n",
            "|2023-01|    1959|   10002.37|\n",
            "+-------+--------+-----------+\n",
            "\n"
          ]
        }
      ]
    },
    {
      "cell_type": "code",
      "source": [
        "df_aberta.groupBy('fraude').min('valor').show()\n",
        "df_aberta.groupBy('fraude').max('valor').show()"
      ],
      "metadata": {
        "id": "uL2zGwY3Rw5f",
        "outputId": "ca047112-d366-44f3-cdfe-32d5b32107df",
        "colab": {
          "base_uri": "https://localhost:8080/"
        }
      },
      "execution_count": 71,
      "outputs": [
        {
          "output_type": "stream",
          "name": "stdout",
          "text": [
            "+------+----------+\n",
            "|fraude|min(valor)|\n",
            "+------+----------+\n",
            "|     0|       0.0|\n",
            "|     1|  19999.98|\n",
            "+------+----------+\n",
            "\n",
            "+------+----------+\n",
            "|fraude|max(valor)|\n",
            "+------+----------+\n",
            "|     0|  19994.39|\n",
            "|     1|  89996.33|\n",
            "+------+----------+\n",
            "\n"
          ]
        }
      ]
    },
    {
      "cell_type": "markdown",
      "source": [
        "##Preparação dos dados"
      ],
      "metadata": {
        "id": "m7Sy5STlw2kJ"
      }
    },
    {
      "cell_type": "markdown",
      "source": [
        "Para preparar os dados para a modelagem, vamos dropar algumas colunas e indexar as colunas categóricas"
      ],
      "metadata": {
        "id": "GjLfRoWS4WmX"
      }
    },
    {
      "cell_type": "code",
      "source": [
        "df_aberta.show()"
      ],
      "metadata": {
        "id": "D1FkOrWEBhGa",
        "colab": {
          "base_uri": "https://localhost:8080/"
        },
        "outputId": "869b3327-7a4d-4263-a045-53b96f236057"
      },
      "execution_count": 37,
      "outputs": [
        {
          "output_type": "stream",
          "name": "stdout",
          "text": [
            "+-------------+---------+------+------------+------------------+------------------+--------------------+-----------------+-------------------+-------+\n",
            "|    categoria|chave_pix|fraude|id_transacao|             valor|destinatario_banco|   destinatario_nome|destinatario_tipo|     data_transacao|ano_mes|\n",
            "+-------------+---------+------+------------+------------------+------------------+--------------------+-----------------+-------------------+-------+\n",
            "|       outros|aleatoria|     0|        1000|            588.08|             Caixa|         Calebe Melo|               PF|2021-07-16 05:00:55|2021-07|\n",
            "|transferencia|  celular|     1|        1001|           80682.5|             Caixa|  Davi Lucas Pereira|               PJ|2022-04-20 12:34:01|2022-04|\n",
            "|        lazer|      cpf|     0|        1002|             549.9|            Nubank|      Sabrina Castro|               PF|2022-07-10 16:51:34|2022-07|\n",
            "|   transporte|aleatoria|     0|        1003|             90.83|            Nubank|Francisco da Conc...|               PJ|2022-10-20 10:57:36|2022-10|\n",
            "|transferencia|    email|     0|        1004|13272.619999999999|               BTG|   Isabelly Ferreira|               PJ|2021-04-06 20:26:51|2021-04|\n",
            "|        saude|aleatoria|     0|        1005|           9347.58|              Itau|Srta. Maria da Cunha|               PJ|2022-07-24 15:22:27|2022-07|\n",
            "|    presentes|      cpf|     0|        1006|           7836.76|                C6|     Catarina Duarte|               PF|2022-10-05 19:20:24|2022-10|\n",
            "|    vestuario|      cpf|     0|        1007|           3883.62|                XP|       Vitor Correia|               PJ|2021-04-24 17:36:34|2021-04|\n",
            "|        saude|aleatoria|     0|        1008|               4.0|                C6|         Theo Novaes|               PJ|2021-11-16 21:46:47|2021-11|\n",
            "|transferencia|      cpf|     0|        1009|              24.3|                XP|     Isabel Caldeira|               PJ|2021-07-26 02:08:49|2021-07|\n",
            "|transferencia|aleatoria|     1|        1010|           87555.3|            Nubank|Sr. Henrique Cardoso|               PF|2022-03-14 15:34:45|2022-03|\n",
            "|transferencia|      cpf|     1|        1011|          21345.91|            Nubank|   Felipe Cavalcanti|               PJ|2021-10-31 04:31:51|2021-10|\n",
            "|transferencia|  celular|     1|        1012|          73605.85|          Bradesco|     Dr. Davi da Luz|               PJ|2021-04-30 19:19:56|2021-04|\n",
            "|  alimentacao|      cpf|     0|        1013|             93.53|                C6|    Stephany Cardoso|               PJ|2023-01-13 13:39:57|2023-01|\n",
            "|    vestuario|aleatoria|     0|        1014|            564.11|              Itau|   Sra. Julia Araujo|               PJ|2022-05-27 23:06:08|2022-05|\n",
            "|        saude|    email|     0|        1015|              3.59|            Nubank|     Carolina Farias|               PJ|2021-10-06 21:19:58|2021-10|\n",
            "|  alimentacao|    email|     0|        1016|          19164.89|            Nubank|   Isabelly da Costa|               PJ|2022-03-06 17:59:43|2022-03|\n",
            "|    vestuario|aleatoria|     0|        1017|             68.45|                C6|Joao Miguel Silveira|               PJ|2022-04-01 18:17:40|2022-04|\n",
            "|    vestuario|  celular|     0|        1018|            941.25|                C6|       Matheus Moura|               PF|2022-05-23 00:28:13|2022-05|\n",
            "|transferencia|    email|     1|        1019|27009.910000000003|              Itau| Gabrielly Goncalves|               PJ|2021-08-04 23:22:37|2021-08|\n",
            "+-------------+---------+------+------------+------------------+------------------+--------------------+-----------------+-------------------+-------+\n",
            "only showing top 20 rows\n",
            "\n"
          ]
        }
      ]
    },
    {
      "cell_type": "code",
      "source": [
        "df_modelo = df_aberta.drop('id_transacao', 'ano_mes')\n",
        "df_modelo.show()"
      ],
      "metadata": {
        "colab": {
          "base_uri": "https://localhost:8080/"
        },
        "id": "e1idy8H-4k7C",
        "outputId": "445b5262-a527-47e5-e75c-c4fba7d163e3"
      },
      "execution_count": 38,
      "outputs": [
        {
          "output_type": "stream",
          "name": "stdout",
          "text": [
            "+-------------+---------+------+------------------+------------------+--------------------+-----------------+-------------------+\n",
            "|    categoria|chave_pix|fraude|             valor|destinatario_banco|   destinatario_nome|destinatario_tipo|     data_transacao|\n",
            "+-------------+---------+------+------------------+------------------+--------------------+-----------------+-------------------+\n",
            "|       outros|aleatoria|     0|            588.08|             Caixa|         Calebe Melo|               PF|2021-07-16 05:00:55|\n",
            "|transferencia|  celular|     1|           80682.5|             Caixa|  Davi Lucas Pereira|               PJ|2022-04-20 12:34:01|\n",
            "|        lazer|      cpf|     0|             549.9|            Nubank|      Sabrina Castro|               PF|2022-07-10 16:51:34|\n",
            "|   transporte|aleatoria|     0|             90.83|            Nubank|Francisco da Conc...|               PJ|2022-10-20 10:57:36|\n",
            "|transferencia|    email|     0|13272.619999999999|               BTG|   Isabelly Ferreira|               PJ|2021-04-06 20:26:51|\n",
            "|        saude|aleatoria|     0|           9347.58|              Itau|Srta. Maria da Cunha|               PJ|2022-07-24 15:22:27|\n",
            "|    presentes|      cpf|     0|           7836.76|                C6|     Catarina Duarte|               PF|2022-10-05 19:20:24|\n",
            "|    vestuario|      cpf|     0|           3883.62|                XP|       Vitor Correia|               PJ|2021-04-24 17:36:34|\n",
            "|        saude|aleatoria|     0|               4.0|                C6|         Theo Novaes|               PJ|2021-11-16 21:46:47|\n",
            "|transferencia|      cpf|     0|              24.3|                XP|     Isabel Caldeira|               PJ|2021-07-26 02:08:49|\n",
            "|transferencia|aleatoria|     1|           87555.3|            Nubank|Sr. Henrique Cardoso|               PF|2022-03-14 15:34:45|\n",
            "|transferencia|      cpf|     1|          21345.91|            Nubank|   Felipe Cavalcanti|               PJ|2021-10-31 04:31:51|\n",
            "|transferencia|  celular|     1|          73605.85|          Bradesco|     Dr. Davi da Luz|               PJ|2021-04-30 19:19:56|\n",
            "|  alimentacao|      cpf|     0|             93.53|                C6|    Stephany Cardoso|               PJ|2023-01-13 13:39:57|\n",
            "|    vestuario|aleatoria|     0|            564.11|              Itau|   Sra. Julia Araujo|               PJ|2022-05-27 23:06:08|\n",
            "|        saude|    email|     0|              3.59|            Nubank|     Carolina Farias|               PJ|2021-10-06 21:19:58|\n",
            "|  alimentacao|    email|     0|          19164.89|            Nubank|   Isabelly da Costa|               PJ|2022-03-06 17:59:43|\n",
            "|    vestuario|aleatoria|     0|             68.45|                C6|Joao Miguel Silveira|               PJ|2022-04-01 18:17:40|\n",
            "|    vestuario|  celular|     0|            941.25|                C6|       Matheus Moura|               PF|2022-05-23 00:28:13|\n",
            "|transferencia|    email|     1|27009.910000000003|              Itau| Gabrielly Goncalves|               PJ|2021-08-04 23:22:37|\n",
            "+-------------+---------+------+------------------+------------------+--------------------+-----------------+-------------------+\n",
            "only showing top 20 rows\n",
            "\n"
          ]
        }
      ]
    },
    {
      "cell_type": "code",
      "source": [
        "from pyspark.ml.feature import StringIndexer\n",
        "\n",
        "indexador = StringIndexer(\n",
        "    inputCols=['destinatario_nome',\n",
        "               'destinatario_banco',\n",
        "               'destinatario_tipo',\n",
        "               'categoria',\n",
        "               'chave_pix'],\n",
        "    outputCols=['idx_destinatario_nome',\n",
        "                'idx_destinatario_banco',\n",
        "                'idx_destinatario_tipo',\n",
        "                'idx_categoria',\n",
        "                'idx_chave_pix']\n",
        ")"
      ],
      "metadata": {
        "id": "NhN00JzJ54_3"
      },
      "execution_count": 39,
      "outputs": []
    },
    {
      "cell_type": "code",
      "source": [
        "df_index = indexador.fit(df_modelo).transform(df_modelo)\n",
        "df_index = df_index.drop('categoria', 'chave_pix', 'destinatario_banco', 'destinatario_nome', 'destinatario_tipo')\n",
        "df_index.show()"
      ],
      "metadata": {
        "colab": {
          "base_uri": "https://localhost:8080/"
        },
        "id": "pgsGjf-p8lep",
        "outputId": "0263ff14-fe4d-46e5-f447-858e4c168ae8"
      },
      "execution_count": 47,
      "outputs": [
        {
          "output_type": "stream",
          "name": "stdout",
          "text": [
            "+------+------------------+-------------------+---------------------+----------------------+---------------------+-------------+-------------+\n",
            "|fraude|             valor|     data_transacao|idx_destinatario_nome|idx_destinatario_banco|idx_destinatario_tipo|idx_categoria|idx_chave_pix|\n",
            "+------+------------------+-------------------+---------------------+----------------------+---------------------+-------------+-------------+\n",
            "|     0|            588.08|2021-07-16 05:00:55|              12045.0|                   4.0|                  1.0|          6.0|          3.0|\n",
            "|     1|           80682.5|2022-04-20 12:34:01|                259.0|                   4.0|                  0.0|          0.0|          2.0|\n",
            "|     0|             549.9|2022-07-10 16:51:34|                132.0|                   2.0|                  1.0|          4.0|          1.0|\n",
            "|     0|             90.83|2022-10-20 10:57:36|              10475.0|                   2.0|                  0.0|          8.0|          3.0|\n",
            "|     0|13272.619999999999|2021-04-06 20:26:51|               4159.0|                   1.0|                  0.0|          0.0|          0.0|\n",
            "|     0|           9347.58|2022-07-24 15:22:27|              26853.0|                   3.0|                  0.0|          3.0|          3.0|\n",
            "|     0|           7836.76|2022-10-05 19:20:24|               5578.0|                   5.0|                  1.0|          7.0|          1.0|\n",
            "|     0|           3883.62|2021-04-24 17:36:34|              13528.0|                   0.0|                  0.0|          2.0|          1.0|\n",
            "|     0|               4.0|2021-11-16 21:46:47|               1141.0|                   5.0|                  0.0|          3.0|          3.0|\n",
            "|     0|              24.3|2021-07-26 02:08:49|               8369.0|                   0.0|                  0.0|          0.0|          1.0|\n",
            "|     1|           87555.3|2022-03-14 15:34:45|              22115.0|                   2.0|                  1.0|          0.0|          3.0|\n",
            "|     1|          21345.91|2021-10-31 04:31:51|               5897.0|                   2.0|                  0.0|          0.0|          1.0|\n",
            "|     1|          73605.85|2021-04-30 19:19:56|              12212.0|                   6.0|                  0.0|          0.0|          2.0|\n",
            "|     0|             93.53|2023-01-13 13:39:57|                 10.0|                   5.0|                  0.0|          1.0|          1.0|\n",
            "|     0|            564.11|2022-05-27 23:06:08|              24413.0|                   3.0|                  0.0|          2.0|          3.0|\n",
            "|     0|              3.59|2021-10-06 21:19:58|              10121.0|                   2.0|                  0.0|          3.0|          0.0|\n",
            "|     0|          19164.89|2022-03-06 17:59:43|               6122.0|                   2.0|                  0.0|          1.0|          0.0|\n",
            "|     0|             68.45|2022-04-01 18:17:40|               6214.0|                   5.0|                  0.0|          2.0|          3.0|\n",
            "|     0|            941.25|2022-05-23 00:28:13|               1829.0|                   5.0|                  1.0|          2.0|          2.0|\n",
            "|     1|27009.910000000003|2021-08-04 23:22:37|               5973.0|                   3.0|                  0.0|          0.0|          0.0|\n",
            "+------+------------------+-------------------+---------------------+----------------------+---------------------+-------------+-------------+\n",
            "only showing top 20 rows\n",
            "\n"
          ]
        }
      ]
    },
    {
      "cell_type": "markdown",
      "source": [
        "##Modelling"
      ],
      "metadata": {
        "id": "yPpJUZRVAv1f"
      }
    },
    {
      "cell_type": "markdown",
      "source": [
        "Para criar um modelo de regressão logística que irá detectar transações pix fraudulentas na conta do cliente, é necessário que vetorizar todas as features categoricas da tabela em uma unica coluna"
      ],
      "metadata": {
        "id": "eqV28l6ZA0yf"
      }
    },
    {
      "cell_type": "code",
      "source": [
        "from pyspark.ml.feature import VectorAssembler\n",
        "from pyspark.ml.classification import LogisticRegression"
      ],
      "metadata": {
        "id": "He8vsB81AxAx"
      },
      "execution_count": 54,
      "outputs": []
    },
    {
      "cell_type": "code",
      "source": [
        "assembler = VectorAssembler(\n",
        "    inputCols = [x for x in df_index.columns if x not in ['data_transacao', 'fraude']],\n",
        "    outputCol = 'features'\n",
        ")\n",
        "\n",
        "lr = LogisticRegression(featuresCol='features', labelCol='fraude')\n",
        "\n",
        "df_vector = assembler.transform(df_index)"
      ],
      "metadata": {
        "id": "-xBZgJS1BiI6"
      },
      "execution_count": 52,
      "outputs": []
    },
    {
      "cell_type": "code",
      "source": [
        "treino, teste = df_vector.randomSplit([0.8, 0.2], seed=123)"
      ],
      "metadata": {
        "id": "pqrOiIwYCsyY"
      },
      "execution_count": 55,
      "outputs": []
    },
    {
      "cell_type": "code",
      "source": [
        "modelo = lr.fit(treino)"
      ],
      "metadata": {
        "id": "yZCe2uEQEFgo"
      },
      "execution_count": 56,
      "outputs": []
    },
    {
      "cell_type": "code",
      "source": [
        "#Montando métricas do modelo\n",
        "\n",
        "from pyspark.ml.evaluation import BinaryClassificationEvaluator, MulticlassClassificationEvaluator\n",
        "from pyspark.ml.tuning import CrossValidator\n",
        "\n",
        "predicao = modelo.transform(teste)\n",
        "\n",
        "# AUC-ROC\n",
        "evaluator = BinaryClassificationEvaluator(rawPredictionCol=\"rawPrediction\", labelCol=\"fraude\")\n",
        "auc = evaluator.evaluate(predicao)\n",
        "\n",
        "# Accuracy, Precision, e Recall\n",
        "multi_evaluator = MulticlassClassificationEvaluator(labelCol=\"fraude\", predictionCol=\"prediction\")\n",
        "accuracy = multi_evaluator.evaluate(predicao, {multi_evaluator.metricName: \"accuracy\"})\n",
        "precision = multi_evaluator.evaluate(predicao, {multi_evaluator.metricName: \"weightedPrecision\"})\n",
        "recall = multi_evaluator.evaluate(predicao, {multi_evaluator.metricName: \"weightedRecall\"})\n",
        "\n",
        "print('Métricas do modelo')\n",
        "print(f\"AUC-ROC: {auc:.4f}\")\n",
        "print(f\"Accuracy: {accuracy:.4f}\")\n",
        "print(f\"Precision: {precision:.4f}\")\n",
        "print(f\"Recall: {recall:.4f}\")"
      ],
      "metadata": {
        "colab": {
          "base_uri": "https://localhost:8080/"
        },
        "id": "z64D65ptF_i3",
        "outputId": "7db497c0-5028-4b4e-d4a6-b5c9f90bf1f3"
      },
      "execution_count": 63,
      "outputs": [
        {
          "output_type": "stream",
          "name": "stdout",
          "text": [
            "Métricas do modelo\n",
            "AUC-ROC: 1.0000\n",
            "Accuracy: 0.9999\n",
            "Precision: 0.9999\n",
            "Recall: 0.9999\n"
          ]
        }
      ]
    },
    {
      "cell_type": "code",
      "source": [
        "#Checando o quanto o modelo errou\n",
        "predicao.crosstab('fraude', 'prediction').show()"
      ],
      "metadata": {
        "colab": {
          "base_uri": "https://localhost:8080/"
        },
        "id": "8b2xuWFcHEI-",
        "outputId": "30e723cb-dec5-457a-df10-3aabc0f7c9ff"
      },
      "execution_count": 62,
      "outputs": [
        {
          "output_type": "stream",
          "name": "stdout",
          "text": [
            "+-----------------+-----+----+\n",
            "|fraude_prediction|  0.0| 1.0|\n",
            "+-----------------+-----+----+\n",
            "|                0|16893|   1|\n",
            "|                1|    0|3070|\n",
            "+-----------------+-----+----+\n",
            "\n"
          ]
        }
      ]
    },
    {
      "cell_type": "markdown",
      "source": [
        "##Conclusões"
      ],
      "metadata": {
        "id": "txFlFzfHStm7"
      }
    },
    {
      "cell_type": "markdown",
      "source": [
        "Após a criação de um modelo de identificação de transações fraudulentas e análise exploratória dos dados, chegamos as seguintes conclusões:\n",
        "\n",
        "1. A categoria com o maior número de transferências foi a de \"Transferência Bancária\"\n",
        "2. O banco mais utilizado foi o banco XP, mas com uma margem pequena em relação aos outros bancos.\n",
        "3. É possível supor que esse cliente usa essa conta pessoa física para fazer movimentações de natureza PJ, devido ao número e valor mensal das transações realizadas.\n",
        "4. Apenas pela análise dos dados, foi possível identificar que todas as transações fraudulentas tiveram valores maiores que R$ 19.999,00; o que é maior que qualquer transação não fraudulenta realizada pelo cliente.\n",
        "5. Uma sugestão de ação para reduzir o número de tentativas de transações fradulentas seria diminuir o valor máximo de transferência em PIX.\n",
        "\n",
        "OBS: Devido a natureza fictícia da base, construída para esse tipo de exercício, o modelo desempenhou de forma quase perfeita, provavelmente pela distribuição dos dados, o que está bem evidenciado no ponto 4 acima, onde o valor é um indicador muito forte de fraude."
      ],
      "metadata": {
        "id": "tTVyOQobTQU3"
      }
    },
    {
      "cell_type": "code",
      "source": [],
      "metadata": {
        "id": "xhcdSb_mVY_-"
      },
      "execution_count": null,
      "outputs": []
    }
  ]
}